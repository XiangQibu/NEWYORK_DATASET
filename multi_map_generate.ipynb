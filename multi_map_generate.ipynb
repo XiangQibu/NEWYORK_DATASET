{
 "cells": [
  {
   "cell_type": "code",
   "execution_count": 2,
   "metadata": {},
   "outputs": [],
   "source": [
    "import numpy as np\n"
   ]
  },
  {
   "cell_type": "code",
   "execution_count": 18,
   "metadata": {},
   "outputs": [
    {
     "name": "stdout",
     "output_type": "stream",
     "text": [
      "[[        1 -73530767  41085396]\n",
      " [        2 -73530538  41086098]\n",
      " [        3 -73519366  41048796]\n",
      " ...\n",
      " [   264344 -73820681  40994683]\n",
      " [   264345 -73714376  41004205]\n",
      " [   264346 -73917690  41291980]]\n",
      "[-73530767 -73530538 -73519366 ... -73820681 -73714376 -73917690]\n"
     ]
    }
   ],
   "source": [
    "filename = './USA-road-d.NY.co/USA-road-d.NY.co' # txt文件和当前脚本在同一目录下，所以不用写具体路径\n",
    "Efield = []\n",
    "x_list = []\n",
    "y_list = []\n",
    "with open(filename, 'r') as file_to_read:\n",
    "    count = 0\n",
    "    while True:\n",
    "        item = []\n",
    "        lines = file_to_read.readline() # 整行读取数据\n",
    "        if not lines:\n",
    "            break\n",
    "        v, id, x_loc, y_loc = [i for i in lines.split()] # 将整行数据分割处理，如果分割符是空格，括号里就不用传入参数，如果是逗号， 则传入‘，'字符。\n",
    "        item.append(int(id))  # 添加新读取的数据\n",
    "        item.append(int(x_loc))\n",
    "        item.append(int(y_loc))\n",
    "        Efield.append(item)\n",
    "        x_list.append(int(x_loc))\n",
    "        y_list.append(int(y_loc))\n",
    "        count += 1\n",
    "\"\"\"         if count % 1000 == 0:\n",
    "            print(\"count:\",count)\n",
    "            print(\"item:\",item) \"\"\"\n",
    "city_show_num = 264346\n",
    "x_list = np.array(x_list)[0:city_show_num]\n",
    "y_list = np.array(y_list)[0:city_show_num]\n",
    "\n",
    "city_co = np.array(Efield)\n",
    "print(city_co)\n",
    "print(x_list)"
   ]
  },
  {
   "cell_type": "code",
   "execution_count": 40,
   "metadata": {},
   "outputs": [
    {
     "name": "stdout",
     "output_type": "stream",
     "text": [
      "[[     1      2    803]\n",
      " [     2      1    803]\n",
      " [     3      4    158]\n",
      " ...\n",
      " [263813 263466    106]\n",
      " [261228 259707    389]\n",
      " [259707 261228    389]]\n"
     ]
    }
   ],
   "source": [
    "edge_show_num = 733846\n",
    "F_list = np.random.randint(10,1000,edge_show_num) #费用\n",
    "H_list = np.ones(edge_show_num,dtype=int) #限高\n",
    "S_list = np.random.randint(10,150,edge_show_num) #限速\n",
    "J_list = np.random.randint(1,6,edge_show_num) #1,2,3,4,5个拥堵等级\n",
    "W_list = np.random.randint(1,4,edge_show_num) #1,2,3种天气\n",
    "\n",
    "filename = './USA-road-d.NY.gr/USA-road-d.NY.gr' # txt文件和当前脚本在同一目录下，所以不用写具体路径\n",
    "Efield = []\n",
    "F_map = []\n",
    "H_map = []\n",
    "S_map = []\n",
    "J_map = []\n",
    "W_map = []\n",
    "with open(filename, 'r') as file_to_read:\n",
    "    count = 0\n",
    "    while True:\n",
    "\n",
    "        lines = file_to_read.readline() # 整行读取数据\n",
    "        if not lines:\n",
    "            break\n",
    "        if count >= edge_show_num:\n",
    "            break\n",
    "        a, v_i, v_j, dis_ij = [i for i in lines.split()] # 将整行数据分割处理，如果分割符是空格，括号里就不用传入参数，如果是逗号， 则传入‘，'字符。\n",
    "        item = []\n",
    "        item.append(int(v_i))  # 添加新读取的数据\n",
    "        item.append(int(v_j))\n",
    "        item.append(int(dis_ij))\n",
    "        Efield.append(item)\n",
    "\n",
    "        item = []\n",
    "        item.append(int(v_i))  # 添加新读取的数据\n",
    "        item.append(int(v_j))\n",
    "        item.append(F_list[count])\n",
    "        F_map.append(item)\n",
    "\n",
    "        item = []\n",
    "        item.append(int(v_i))  # 添加新读取的数据\n",
    "        item.append(int(v_j))\n",
    "        item.append(H_list[count])\n",
    "        H_map.append(item)\n",
    "\n",
    "        item = []\n",
    "        item.append(int(v_i))  # 添加新读取的数据\n",
    "        item.append(int(v_j))\n",
    "        item.append(S_list[count])\n",
    "        S_map.append(item)\n",
    "\n",
    "        item = []\n",
    "        item.append(int(v_i))  # 添加新读取的数据\n",
    "        item.append(int(v_j))\n",
    "        item.append(J_list[count])\n",
    "        J_map.append(item)\n",
    "\n",
    "        item = []\n",
    "        item.append(int(v_i))  # 添加新读取的数据\n",
    "        item.append(int(v_j))\n",
    "        item.append(W_list[count])\n",
    "        W_map.append(item)\n",
    "\n",
    "        count += 1\n",
    "\"\"\"         if count % 1000 == 0:\n",
    "            print(\"count:\",count)\n",
    "            print(\"item:\",item)  \"\"\"\n",
    "\n",
    "dis_table = np.array(Efield)\n",
    "F_map = np.array(F_map)\n",
    "S_map = np.array(S_map)\n",
    "print(dis_table)\n",
    "#print(S_map)"
   ]
  },
  {
   "cell_type": "code",
   "execution_count": 25,
   "metadata": {},
   "outputs": [
    {
     "name": "stdout",
     "output_type": "stream",
     "text": [
      "[655 554 937 ... 157 408 604]\n"
     ]
    }
   ],
   "source": [
    "F_list = np.random.randint(10,1000,city_show_num) #费用\n",
    "print(F_list)"
   ]
  },
  {
   "cell_type": "code",
   "execution_count": 41,
   "metadata": {},
   "outputs": [],
   "source": [
    "# fee_map\n",
    "with open('./multi_map/fee_map.txt', 'w') as handle:\n",
    "    handle.writelines([\n",
    "        \"%d %d %d\\n\" % (item[0],item[1],item[2])\n",
    "        for item in F_map\n",
    "        ])"
   ]
  },
  {
   "cell_type": "code",
   "execution_count": 42,
   "metadata": {},
   "outputs": [],
   "source": [
    "# H_map\n",
    "with open('./multi_map/H_map.txt', 'w') as handle:\n",
    "    handle.writelines([\n",
    "        \"%d %d %d\\n\" % (item[0],item[1],item[2])\n",
    "        for item in H_map\n",
    "        ])"
   ]
  },
  {
   "cell_type": "code",
   "execution_count": 43,
   "metadata": {},
   "outputs": [],
   "source": [
    "# S_map\n",
    "with open('./multi_map/S_map.txt', 'w') as handle:\n",
    "    handle.writelines([\n",
    "        \"%d %d %d\\n\" % (item[0],item[1],item[2])\n",
    "        for item in S_map\n",
    "        ])"
   ]
  },
  {
   "cell_type": "code",
   "execution_count": 44,
   "metadata": {},
   "outputs": [],
   "source": [
    "# J_map\n",
    "with open('./multi_map/J_map.txt', 'w') as handle:\n",
    "    handle.writelines([\n",
    "        \"%d %d %d\\n\" % (item[0],item[1],item[2])\n",
    "        for item in J_map\n",
    "        ])"
   ]
  },
  {
   "cell_type": "code",
   "execution_count": 45,
   "metadata": {},
   "outputs": [],
   "source": [
    "# W_map\n",
    "with open('./multi_map/W_map.txt', 'w') as handle:\n",
    "    handle.writelines([\n",
    "        \"%d %d %d\\n\" % (item[0],item[1],item[2])\n",
    "        for item in W_map\n",
    "        ])"
   ]
  },
  {
   "cell_type": "code",
   "execution_count": null,
   "metadata": {},
   "outputs": [],
   "source": []
  }
 ],
 "metadata": {
  "interpreter": {
   "hash": "a8f61be024eba58adef938c9aa1e29e02cb3dece83a5348b1a2dafd16a070453"
  },
  "kernelspec": {
   "display_name": "Python 3.7.6 64-bit ('base': conda)",
   "language": "python",
   "name": "python3"
  },
  "language_info": {
   "codemirror_mode": {
    "name": "ipython",
    "version": 3
   },
   "file_extension": ".py",
   "mimetype": "text/x-python",
   "name": "python",
   "nbconvert_exporter": "python",
   "pygments_lexer": "ipython3",
   "version": "3.7.6"
  },
  "orig_nbformat": 4
 },
 "nbformat": 4,
 "nbformat_minor": 2
}
