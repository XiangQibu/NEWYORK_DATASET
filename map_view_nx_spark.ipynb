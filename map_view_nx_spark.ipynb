{
 "cells": [
  {
   "cell_type": "code",
   "execution_count": 1,
   "metadata": {},
   "outputs": [],
   "source": [
    "import numpy as np\n",
    "import networkx as nx"
   ]
  },
  {
   "cell_type": "code",
   "execution_count": 2,
   "metadata": {},
   "outputs": [
    {
     "data": {
      "text/plain": [
       "'local[*]'"
      ]
     },
     "execution_count": 2,
     "metadata": {},
     "output_type": "execute_result"
    }
   ],
   "source": [
    "sc.master"
   ]
  },
  {
   "cell_type": "code",
   "execution_count": 3,
   "metadata": {},
   "outputs": [
    {
     "name": "stdout",
     "output_type": "stream",
     "text": [
      "[[        1 -73530767  41085396]\n",
      " [        2 -73530538  41086098]\n",
      " [        3 -73519366  41048796]\n",
      " ...\n",
      " [   264344 -73820681  40994683]\n",
      " [   264345 -73714376  41004205]\n",
      " [   264346 -73917690  41291980]]\n",
      "[-73530767 -73530538 -73519366 ... -73515866 -73512266 -73511366]\n"
     ]
    }
   ],
   "source": [
    "filename = './USA-road-d.NY.co/USA-road-d.NY.co' # txt文件和当前脚本在同一目录下，所以不用写具体路径\n",
    "Efield = []\n",
    "x_list = []\n",
    "y_list = []\n",
    "with open(filename, 'r') as file_to_read:\n",
    "    count = 0\n",
    "    while True:\n",
    "        item = []\n",
    "        lines = file_to_read.readline() # 整行读取数据\n",
    "        if not lines:\n",
    "            break\n",
    "        v, id, x_loc, y_loc = [i for i in lines.split()] # 将整行数据分割处理，如果分割符是空格，括号里就不用传入参数，如果是逗号， 则传入‘，'字符。\n",
    "        item.append(int(id))  # 添加新读取的数据\n",
    "        item.append(int(x_loc))\n",
    "        item.append(int(y_loc))\n",
    "        Efield.append(item)\n",
    "        x_list.append(int(x_loc))\n",
    "        y_list.append(int(y_loc))\n",
    "        count += 1\n",
    "\"\"\"         if count % 1000 == 0:\n",
    "            print(\"count:\",count)\n",
    "            print(\"item:\",item) \"\"\"\n",
    "city_show_num = 4000\n",
    "x_list = np.array(x_list)[0:city_show_num]\n",
    "y_list = np.array(y_list)[0:city_show_num]\n",
    "\n",
    "city_co = np.array(Efield)\n",
    "print(city_co)\n",
    "print(x_list)"
   ]
  },
  {
   "cell_type": "markdown",
   "metadata": {},
   "source": [
    "## 读取图连通关系"
   ]
  },
  {
   "cell_type": "code",
   "execution_count": 4,
   "metadata": {},
   "outputs": [
    {
     "name": "stdout",
     "output_type": "stream",
     "text": [
      "733846\n",
      "[[     1      2    803]\n",
      " [     2      1    803]\n",
      " [     3      4    158]\n",
      " ...\n",
      " [263813 263466    106]\n",
      " [261228 259707    389]\n",
      " [259707 261228    389]]\n"
     ]
    }
   ],
   "source": [
    "filename = './USA-road-d.NY.gr/USA-road-d.NY.gr' # txt文件和当前脚本在同一目录下，所以不用写具体路径\n",
    "Efield = []\n",
    "with open(filename, 'r') as file_to_read:\n",
    "    count = 0\n",
    "    while True:\n",
    "        item = []\n",
    "        lines = file_to_read.readline() # 整行读取数据\n",
    "        if not lines:\n",
    "            break\n",
    "        a, v_i, v_j, dis_ij = [i for i in lines.split()] # 将整行数据分割处理，如果分割符是空格，括号里就不用传入参数，如果是逗号， 则传入‘，'字符。\n",
    "        item.append(int(v_i))  # 添加新读取的数据\n",
    "        item.append(int(v_j))\n",
    "        item.append(int(dis_ij))\n",
    "        Efield.append(item)\n",
    "        count += 1\n",
    "\"\"\"         if count % 1000 == 0:\n",
    "            print(\"count:\",count)\n",
    "            print(\"item:\",item)  \"\"\"\n",
    "\n",
    "dis_table = np.array(Efield)\n",
    "print(len(dis_table))\n",
    "print(dis_table)"
   ]
  },
  {
   "cell_type": "code",
   "execution_count": 5,
   "metadata": {},
   "outputs": [
    {
     "data": {
      "text/plain": [
       "<Figure size 2000x2000 with 1 Axes>"
      ]
     },
     "metadata": {},
     "output_type": "display_data"
    }
   ],
   "source": [
    "import matplotlib.pyplot as plt\n",
    "plt.figure(figsize=(20, 20))\n",
    "\n",
    "\"\"\" for edge in dis_table[:1000]:\n",
    "    x_1 = city_co[edge[0],1]\n",
    "    x_2 = city_co[edge[1],1]\n",
    "    X = [x_1, x_2]\n",
    "    y_1 = city_co[edge[0],2]\n",
    "    y_2 = city_co[edge[1],2]\n",
    "    Y = [y_1, y_2]\n",
    "    plt.plot(X, Y, color = 'r', linewidth = 0.1) \"\"\"\n",
    "# plt.savefig(\"map.png\")\n",
    "plt.scatter(x_list,y_list,s=0.5)\n",
    "plt.show()"
   ]
  },
  {
   "cell_type": "code",
   "execution_count": 6,
   "metadata": {},
   "outputs": [],
   "source": [
    "# -*- coding: utf-8 -*-\n",
    "import random\n",
    "import copy\n",
    "import time\n",
    "import numpy as np\n",
    "import sys\n",
    "import math\n",
    "import tkinter #//GUI模块\n",
    "import threading\n",
    "import pandas as pd\n",
    "from functools import reduce\n",
    "\n",
    "# 参数\n",
    "'''\n",
    "ALPHA:信息启发因子，值越大，则蚂蚁选择之前走过的路径可能性就越大\n",
    "      ，值越小，则蚁群搜索范围就会减少，容易陷入局部最优\n",
    "BETA:Beta值越大，蚁群越就容易选择局部较短路径，这时算法收敛速度会\n",
    "     加快，但是随机性不高，容易得到局部的相对最优\n",
    "'''\n",
    "(ALPHA, BETA, RHO, Q) = (1.0,2.0,0.3,1000)\n",
    "# 城市数，蚁群\n",
    "(city_num, ant_num) = (264346, 50)\n",
    "distance_nx_graph = nx.DiGraph()\n",
    "pheromone_nx_graph = nx.DiGraph()\n",
    "\n",
    "\n"
   ]
  },
  {
   "cell_type": "code",
   "execution_count": 7,
   "metadata": {},
   "outputs": [],
   "source": [
    "# from classAnt import Ant\n",
    "'''\n",
    "def update_pheromone_gragh(ants,target):\n",
    "\n",
    "    # 获取每只蚂蚁在其路径上留下的信息素\n",
    "    for ant in ants:\n",
    "        #如果这条路无法到达，则不应该更新信息素\n",
    "        if ant.path[-1] != target:\n",
    "            continue\n",
    "        for i in range(1,len(ant.path)):\n",
    "            start, end = ant.path[i-1], ant.path[i]\n",
    "            # 在路径上的每两个相邻城市间留下信息素，与路径总距离反比\n",
    "            #temp_pheromone[start][end] += Q / ant.total_distance\n",
    "            # temp_vertex = pheromone_adja_graph.vertList[start]\n",
    "            temp_pheromone = pheromone_nx_graph.get_edge_data(start, end)['weight'] * (1-RHO)\n",
    "            # 更新所有城市之间的信息素，旧信息素衰减加上新迭代信息素\n",
    "            temp_pheromone += Q / ant.total_distance\n",
    "            pheromone_nx_graph.add_weighted_edges_from([(start,end,temp_pheromone)])'''\n",
    "def update_pheromone_gragh(ant_searched,target):\n",
    "    #path[0]为路径长度，path[1]为路径list\n",
    "    # 获取每只蚂蚁在其路径上留下的信息素\n",
    "    for path in ant_searched:\n",
    "        #如果这条路无法到达，则不应该更新信息素\n",
    "        if path[1][-1] != target:\n",
    "            continue\n",
    "        k = 1 / path[0]\n",
    "        for i in range(1,len(path[1])):\n",
    "            start, end = path[1][i-1], path[1][i]\n",
    "            # 在路径上的每两个相邻城市间留下信息素，与路径总距离反比\n",
    "            #temp_pheromone[start][end] += Q / ant.total_distance\n",
    "            # temp_vertex = pheromone_adja_graph.vertList[start]\n",
    "            temp_pheromone = bc_pheromone_nx_graph.value.get_edge_data(start, end)['weight'] * (1-RHO)\n",
    "            # 更新所有城市之间的信息素，旧信息素衰减加上新迭代信息素\n",
    "            temp_pheromone += Q * k\n",
    "            pheromone_nx_graph.add_weighted_edges_from([(start,end,temp_pheromone)])\n",
    "            \n",
    "def initial_map(city_num):\n",
    "        # 初始化邻接表\n",
    "    distance_nx_graph.clear()\n",
    "    pheromone_nx_graph.clear()\n",
    "    initial_pheromone = 1\n",
    "    for item in dis_table:\n",
    "        if item[0] <= city_num and item[1] <= city_num:\n",
    "            distance_nx_graph.add_weighted_edges_from([(item[0],item[1],item[2])])\n",
    "            pheromone_nx_graph.add_weighted_edges_from([(item[0],item[1],initial_pheromone)])\n",
    "    \n",
    "\n",
    "def initial_ants(sc, start, target):\n",
    "    # global ants\n",
    "    ants = [Ant(ID,target,start,city_num,ALPHA,BETA,RHO,Q) for ID in range(ant_num)]  # 初始蚁群\n",
    "    ants_RDD = sc.parallelize(ants)\n",
    "    return(ants_RDD)\n",
    "\n",
    "def search_path(start,target,city_co):\n",
    "    \n",
    "    \n",
    "    #best_ant = Ant(-1,target,start)                          # 初始最优解\n",
    "    #best_ant.total_distance = np.inf           # 初始最好的蚂蚁\n",
    "    best_distance = np.inf\n",
    "    \n",
    "    iter = 1\n",
    "\n",
    "    while True:\n",
    "        # 遍历每一只蚂蚁\n",
    "        tic = time.time()\n",
    "        count = 0\n",
    "        for ant in ants:\n",
    "            # 搜索一条路径\n",
    "            ant.search_path(distance_nx_graph,pheromone_nx_graph,city_co)\n",
    "            # 与当前最优蚂蚁比较\n",
    "            #print(ant.path)\n",
    "            #print(ant.total_distance)\n",
    "            if ant.total_distance < best_distance and ant.path[-1] == target:\n",
    "                # 更新最优解\n",
    "                #best_ant = copy.deepcopy(ant)\n",
    "                best_path = ant.path\n",
    "                best_distance = ant.total_distance\n",
    "                print('found a path!')\n",
    "\n",
    "        # 更新信息素\n",
    "        update_pheromone_gragh(ants,target)\n",
    "        if best_distance < np.inf:\n",
    "            toc = time.time()\n",
    "            gap = toc-tic\n",
    "            path_str = '%d' % best_path[0]\n",
    "            # 给定策略然后进行选择\n",
    "            for i in range(len(best_path) - 1):\n",
    "                \"\"\" if strategy_graph[best_path[i]][best_path[i+1]] == 1:\n",
    "                    path_str = path_str + '--freeway--'\n",
    "                elif strategy_graph[best_path[i]][best_path[i+1]] == 2:\n",
    "                    path_str = path_str + '--road--' \"\"\"\n",
    "                path_str = path_str + '------' + '%d' % best_path[i+1]\n",
    "            # 给定策略的概率，按概率进行选择?这样似乎是不太合理的。因为只有策略确定了之后，才有相应的评价体系，先后顺序不能乱\n",
    "            \"\"\" for i in range(len(best_path) - 1):\n",
    "                if prob_graph[best_path[i]][best_path[i+1]] >= 0:\n",
    "                    # 二项分布随机数\n",
    "                    the_choice = np.random.binomial(1,prob_graph[best_path[i]][best_path[i+1]],size = 1)\n",
    "                    print(prob_graph[best_path[i]][best_path[i+1]])\n",
    "                    if the_choice == 1:\n",
    "                        path_str = path_str + '--freeway--'\n",
    "                    elif the_choice == 0:\n",
    "                        path_str = path_str + '--road--'\n",
    "                    path_str = path_str + '%d' % best_path[i+1] \"\"\"\n",
    "            print (u\"迭代次数：\",iter,u\"最佳路径总距离：\",int(best_distance),\"路径为：\",path_str,\"搜索时长：\",gap)\n",
    "        else:\n",
    "            print(u\"迭代次数：\",iter,u\"无法到达！\")\n",
    "        iter += 1\n"
   ]
  },
  {
   "cell_type": "markdown",
   "metadata": {},
   "source": [
    "显示起终点在地图中的相对位置"
   ]
  },
  {
   "cell_type": "code",
   "execution_count": 8,
   "metadata": {},
   "outputs": [],
   "source": [
    "# 设置起点和终点\n",
    "start = 255\n",
    "target = 300"
   ]
  },
  {
   "cell_type": "code",
   "execution_count": 9,
   "metadata": {},
   "outputs": [
    {
     "data": {
      "image/png": "[encoded data removed]",
      "text/plain": [
       "<Figure size 1440x1440 with 1 Axes>"
      ]
     },
     "metadata": {
      "needs_background": "light"
     },
     "output_type": "display_data"
    }
   ],
   "source": [
    "import matplotlib.pyplot as plt\n",
    "plt.figure(figsize=(20, 20))\n",
    "plt.scatter(x_list,y_list,s=0.5)\n",
    "\"\"\" for edge in dis_table[:1000]:\n",
    "    x_1 = city_co[edge[0],1]\n",
    "    x_2 = city_co[edge[1],1]\n",
    "    X = [x_1, x_2]\n",
    "    y_1 = city_co[edge[0],2]\n",
    "    y_2 = city_co[edge[1],2]\n",
    "    Y = [y_1, y_2]\n",
    "    plt.plot(X, Y, color = 'r', linewidth = 0.1) \"\"\"\n",
    "# plt.savefig(\"map.png\")\n",
    "x_start = city_co[start,1]\n",
    "x_target = city_co[target,1]\n",
    "X = [x_start, x_target]\n",
    "y_start = city_co[start,2]\n",
    "y_target = city_co[target,2]\n",
    "Y = [y_start, y_target]\n",
    "plt.scatter(X,Y,c = 'r', s=5)\n",
    "plt.show()"
   ]
  },
  {
   "cell_type": "markdown",
   "metadata": {},
   "source": [
    "开始测试搜索"
   ]
  },
  {
   "cell_type": "code",
   "execution_count": 10,
   "metadata": {},
   "outputs": [],
   "source": [
    "initial_map(city_num)\n",
    "#设置广播变量\n"
   ]
  },
  {
   "cell_type": "code",
   "execution_count": 11,
   "metadata": {},
   "outputs": [],
   "source": [
    "bc_distance_nx_graph = sc.broadcast(distance_nx_graph)\n",
    "bc_pheromone_nx_graph = sc.broadcast(pheromone_nx_graph)\n",
    "bc_city_co = sc.broadcast(city_co)"
   ]
  },
  {
   "cell_type": "code",
   "execution_count": null,
   "metadata": {},
   "outputs": [],
   "source": []
  },
  {
   "cell_type": "code",
   "execution_count": 12,
   "metadata": {},
   "outputs": [
    {
     "name": "stdout",
     "output_type": "stream",
     "text": [
      "ParallelCollectionRDD[0] at parallelize at PythonRDD.scala:195\n",
      "迭代次数： 1 无法到达！\n",
      "迭代次数： 2 无法到达！\n",
      "迭代次数： 3 无法到达！\n",
      "迭代次数： 4 无法到达！\n",
      "迭代次数： 5 无法到达！\n",
      "迭代次数： 6 无法到达！\n",
      "迭代次数： 7 无法到达！\n",
      "迭代次数： 8 无法到达！\n",
      "迭代次数： 9 无法到达！\n",
      "迭代次数： 10 无法到达！\n",
      "迭代次数： 11 无法到达！\n",
      "迭代次数： 12 无法到达！\n",
      "迭代次数： 13 无法到达！\n",
      "found a path!\n",
      "distance: 43105.0\n",
      "[255, 276, 278, 271, 279, 280, 282, 269, 267, 266, 214, 213, 212, 211, 210, 298, 300]\n",
      "迭代次数： 14 最佳路径总距离： 43105 路径为： [255, 276, 278, 271, 279, 280, 282, 269, 267, 266, 214, 213, 212, 211, 210, 298, 300] 搜索时长： 19.00493597984314\n",
      "迭代次数： 15 最佳路径总距离： 43105 路径为： [255, 276, 278, 271, 279, 280, 282, 269, 267, 266, 214, 213, 212, 211, 210, 298, 300] 搜索时长： 13.013331413269043\n",
      "迭代次数： 16 最佳路径总距离： 43105 路径为： [255, 276, 278, 271, 279, 280, 282, 269, 267, 266, 214, 213, 212, 211, 210, 298, 300] 搜索时长： 12.854129552841187\n",
      "迭代次数： 17 最佳路径总距离： 43105 路径为： [255, 276, 278, 271, 279, 280, 282, 269, 267, 266, 214, 213, 212, 211, 210, 298, 300] 搜索时长： 13.082634210586548\n",
      "迭代次数： 18 最佳路径总距离： 43105 路径为： [255, 276, 278, 271, 279, 280, 282, 269, 267, 266, 214, 213, 212, 211, 210, 298, 300] 搜索时长： 12.833035469055176\n",
      "迭代次数： 19 最佳路径总距离： 43105 路径为： [255, 276, 278, 271, 279, 280, 282, 269, 267, 266, 214, 213, 212, 211, 210, 298, 300] 搜索时长： 12.890573501586914\n",
      "迭代次数： 20 最佳路径总距离： 43105 路径为： [255, 276, 278, 271, 279, 280, 282, 269, 267, 266, 214, 213, 212, 211, 210, 298, 300] 搜索时长： 13.183661699295044\n",
      "迭代次数： 21 最佳路径总距离： 43105 路径为： [255, 276, 278, 271, 279, 280, 282, 269, 267, 266, 214, 213, 212, 211, 210, 298, 300] 搜索时长： 12.966324806213379\n"
     ]
    },
    {
     "ename": "KeyboardInterrupt",
     "evalue": "",
     "output_type": "error",
     "traceback": [
      "\u001b[0;31m---------------------------------------------------------------------------\u001b[0m",
      "\u001b[0;31mKeyboardInterrupt\u001b[0m                         Traceback (most recent call last)",
      "\u001b[0;32m<ipython-input-12-92f8bcd7cb34>\u001b[0m in \u001b[0;36m<module>\u001b[0;34m\u001b[0m\n\u001b[1;32m     24\u001b[0m     \u001b[0mupdate_pheromone_gragh\u001b[0m\u001b[0;34m(\u001b[0m\u001b[0mants_searched\u001b[0m\u001b[0;34m,\u001b[0m\u001b[0mtarget\u001b[0m\u001b[0;34m)\u001b[0m\u001b[0;34m\u001b[0m\u001b[0;34m\u001b[0m\u001b[0m\n\u001b[1;32m     25\u001b[0m     \u001b[0mbc_pheromone_nx_graph\u001b[0m\u001b[0;34m.\u001b[0m\u001b[0munpersist\u001b[0m\u001b[0;34m(\u001b[0m\u001b[0;34m)\u001b[0m\u001b[0;34m\u001b[0m\u001b[0;34m\u001b[0m\u001b[0m\n\u001b[0;32m---> 26\u001b[0;31m     \u001b[0mbc_pheromone_nx_graph\u001b[0m \u001b[0;34m=\u001b[0m \u001b[0msc\u001b[0m\u001b[0;34m.\u001b[0m\u001b[0mbroadcast\u001b[0m\u001b[0;34m(\u001b[0m\u001b[0mpheromone_nx_graph\u001b[0m\u001b[0;34m)\u001b[0m\u001b[0;34m\u001b[0m\u001b[0;34m\u001b[0m\u001b[0m\n\u001b[0m\u001b[1;32m     27\u001b[0m \u001b[0;34m\u001b[0m\u001b[0m\n\u001b[1;32m     28\u001b[0m     \u001b[0;32mif\u001b[0m \u001b[0mbest_path_distance\u001b[0m \u001b[0;34m<\u001b[0m \u001b[0mnp\u001b[0m\u001b[0;34m.\u001b[0m\u001b[0minf\u001b[0m\u001b[0;34m:\u001b[0m\u001b[0;34m\u001b[0m\u001b[0;34m\u001b[0m\u001b[0m\n",
      "\u001b[0;32m/usr/local/spark/python/pyspark/context.py\u001b[0m in \u001b[0;36mbroadcast\u001b[0;34m(self, value)\u001b[0m\n\u001b[1;32m    846\u001b[0m         \u001b[0mbe\u001b[0m \u001b[0msent\u001b[0m \u001b[0mto\u001b[0m \u001b[0meach\u001b[0m \u001b[0mcluster\u001b[0m \u001b[0monly\u001b[0m \u001b[0monce\u001b[0m\u001b[0;34m.\u001b[0m\u001b[0;34m\u001b[0m\u001b[0;34m\u001b[0m\u001b[0m\n\u001b[1;32m    847\u001b[0m         \"\"\"\n\u001b[0;32m--> 848\u001b[0;31m         \u001b[0;32mreturn\u001b[0m \u001b[0mBroadcast\u001b[0m\u001b[0;34m(\u001b[0m\u001b[0mself\u001b[0m\u001b[0;34m,\u001b[0m \u001b[0mvalue\u001b[0m\u001b[0;34m,\u001b[0m \u001b[0mself\u001b[0m\u001b[0;34m.\u001b[0m\u001b[0m_pickled_broadcast_vars\u001b[0m\u001b[0;34m)\u001b[0m\u001b[0;34m\u001b[0m\u001b[0;34m\u001b[0m\u001b[0m\n\u001b[0m\u001b[1;32m    849\u001b[0m \u001b[0;34m\u001b[0m\u001b[0m\n\u001b[1;32m    850\u001b[0m     \u001b[0;32mdef\u001b[0m \u001b[0maccumulator\u001b[0m\u001b[0;34m(\u001b[0m\u001b[0mself\u001b[0m\u001b[0;34m,\u001b[0m \u001b[0mvalue\u001b[0m\u001b[0;34m,\u001b[0m \u001b[0maccum_param\u001b[0m\u001b[0;34m=\u001b[0m\u001b[0;32mNone\u001b[0m\u001b[0;34m)\u001b[0m\u001b[0;34m:\u001b[0m\u001b[0;34m\u001b[0m\u001b[0;34m\u001b[0m\u001b[0m\n",
      "\u001b[0;32m/usr/local/spark/python/pyspark/broadcast.py\u001b[0m in \u001b[0;36m__init__\u001b[0;34m(self, sc, value, pickle_registry, path, sock_file)\u001b[0m\n\u001b[1;32m     88\u001b[0m                 \u001b[0;31m# no encryption, we can just write pickled data directly to the file from python\u001b[0m\u001b[0;34m\u001b[0m\u001b[0;34m\u001b[0m\u001b[0;34m\u001b[0m\u001b[0m\n\u001b[1;32m     89\u001b[0m                 \u001b[0mbroadcast_out\u001b[0m \u001b[0;34m=\u001b[0m \u001b[0mf\u001b[0m\u001b[0;34m\u001b[0m\u001b[0;34m\u001b[0m\u001b[0m\n\u001b[0;32m---> 90\u001b[0;31m             \u001b[0mself\u001b[0m\u001b[0;34m.\u001b[0m\u001b[0mdump\u001b[0m\u001b[0;34m(\u001b[0m\u001b[0mvalue\u001b[0m\u001b[0;34m,\u001b[0m \u001b[0mbroadcast_out\u001b[0m\u001b[0;34m)\u001b[0m\u001b[0;34m\u001b[0m\u001b[0;34m\u001b[0m\u001b[0m\n\u001b[0m\u001b[1;32m     91\u001b[0m             \u001b[0;32mif\u001b[0m \u001b[0msc\u001b[0m\u001b[0;34m.\u001b[0m\u001b[0m_encryption_enabled\u001b[0m\u001b[0;34m:\u001b[0m\u001b[0;34m\u001b[0m\u001b[0;34m\u001b[0m\u001b[0m\n\u001b[1;32m     92\u001b[0m                 \u001b[0mpython_broadcast\u001b[0m\u001b[0;34m.\u001b[0m\u001b[0mwaitTillDataReceived\u001b[0m\u001b[0;34m(\u001b[0m\u001b[0;34m)\u001b[0m\u001b[0;34m\u001b[0m\u001b[0;34m\u001b[0m\u001b[0m\n",
      "\u001b[0;32m/usr/local/spark/python/pyspark/broadcast.py\u001b[0m in \u001b[0;36mdump\u001b[0;34m(self, value, f)\u001b[0m\n\u001b[1;32m    108\u001b[0m     \u001b[0;32mdef\u001b[0m \u001b[0mdump\u001b[0m\u001b[0;34m(\u001b[0m\u001b[0mself\u001b[0m\u001b[0;34m,\u001b[0m \u001b[0mvalue\u001b[0m\u001b[0;34m,\u001b[0m \u001b[0mf\u001b[0m\u001b[0;34m)\u001b[0m\u001b[0;34m:\u001b[0m\u001b[0;34m\u001b[0m\u001b[0;34m\u001b[0m\u001b[0m\n\u001b[1;32m    109\u001b[0m         \u001b[0;32mtry\u001b[0m\u001b[0;34m:\u001b[0m\u001b[0;34m\u001b[0m\u001b[0;34m\u001b[0m\u001b[0m\n\u001b[0;32m--> 110\u001b[0;31m             \u001b[0mpickle\u001b[0m\u001b[0;34m.\u001b[0m\u001b[0mdump\u001b[0m\u001b[0;34m(\u001b[0m\u001b[0mvalue\u001b[0m\u001b[0;34m,\u001b[0m \u001b[0mf\u001b[0m\u001b[0;34m,\u001b[0m \u001b[0;36m2\u001b[0m\u001b[0;34m)\u001b[0m\u001b[0;34m\u001b[0m\u001b[0;34m\u001b[0m\u001b[0m\n\u001b[0m\u001b[1;32m    111\u001b[0m         \u001b[0;32mexcept\u001b[0m \u001b[0mpickle\u001b[0m\u001b[0;34m.\u001b[0m\u001b[0mPickleError\u001b[0m\u001b[0;34m:\u001b[0m\u001b[0;34m\u001b[0m\u001b[0;34m\u001b[0m\u001b[0m\n\u001b[1;32m    112\u001b[0m             \u001b[0;32mraise\u001b[0m\u001b[0;34m\u001b[0m\u001b[0;34m\u001b[0m\u001b[0m\n",
      "\u001b[0;32m~/anaconda3/lib/python3.7/tempfile.py\u001b[0m in \u001b[0;36mfunc_wrapper\u001b[0;34m(*args, **kwargs)\u001b[0m\n\u001b[1;32m    477\u001b[0m         \u001b[0;32mif\u001b[0m \u001b[0mhasattr\u001b[0m\u001b[0;34m(\u001b[0m\u001b[0ma\u001b[0m\u001b[0;34m,\u001b[0m \u001b[0;34m'__call__'\u001b[0m\u001b[0;34m)\u001b[0m\u001b[0;34m:\u001b[0m\u001b[0;34m\u001b[0m\u001b[0;34m\u001b[0m\u001b[0m\n\u001b[1;32m    478\u001b[0m             \u001b[0mfunc\u001b[0m \u001b[0;34m=\u001b[0m \u001b[0ma\u001b[0m\u001b[0;34m\u001b[0m\u001b[0;34m\u001b[0m\u001b[0m\n\u001b[0;32m--> 479\u001b[0;31m             \u001b[0;34m@\u001b[0m\u001b[0m_functools\u001b[0m\u001b[0;34m.\u001b[0m\u001b[0mwraps\u001b[0m\u001b[0;34m(\u001b[0m\u001b[0mfunc\u001b[0m\u001b[0;34m)\u001b[0m\u001b[0;34m\u001b[0m\u001b[0;34m\u001b[0m\u001b[0m\n\u001b[0m\u001b[1;32m    480\u001b[0m             \u001b[0;32mdef\u001b[0m \u001b[0mfunc_wrapper\u001b[0m\u001b[0;34m(\u001b[0m\u001b[0;34m*\u001b[0m\u001b[0margs\u001b[0m\u001b[0;34m,\u001b[0m \u001b[0;34m**\u001b[0m\u001b[0mkwargs\u001b[0m\u001b[0;34m)\u001b[0m\u001b[0;34m:\u001b[0m\u001b[0;34m\u001b[0m\u001b[0;34m\u001b[0m\u001b[0m\n\u001b[1;32m    481\u001b[0m                 \u001b[0;32mreturn\u001b[0m \u001b[0mfunc\u001b[0m\u001b[0;34m(\u001b[0m\u001b[0;34m*\u001b[0m\u001b[0margs\u001b[0m\u001b[0;34m,\u001b[0m \u001b[0;34m**\u001b[0m\u001b[0mkwargs\u001b[0m\u001b[0;34m)\u001b[0m\u001b[0;34m\u001b[0m\u001b[0;34m\u001b[0m\u001b[0m\n",
      "\u001b[0;31mKeyboardInterrupt\u001b[0m: "
     ]
    }
   ],
   "source": [
    "from classAnt import Ant\n",
    "\n",
    "ants_RDD = initial_ants(sc, start,target)\n",
    "print(ants_RDD)\n",
    "ants_RDD_searched = ants_RDD.map(lambda x:x.search_path(bc_distance_nx_graph.value, bc_pheromone_nx_graph.value, bc_city_co.value))\n",
    "\n",
    "the_iter = 1\n",
    "best_path_distance = np.inf\n",
    "best_path = []\n",
    "while(1):\n",
    "    tic = time.time()\n",
    "    ants_searched = ants_RDD_searched.collect()\n",
    "    distance_list = []\n",
    "    for i in range(10):\n",
    "        distance_list.append(ants_searched[i][0])\n",
    "    min_distance = min(distance_list)\n",
    "    if min_distance < best_path_distance:\n",
    "        print(\"found a path!\")\n",
    "        print(\"distance:\", min_distance)\n",
    "        print(ants_searched[distance_list.index(min_distance)][1])\n",
    "        best_path_distance = min_distance\n",
    "        best_path = ants_searched[distance_list.index(min_distance)][1]\n",
    "        \n",
    "    update_pheromone_gragh(ants_searched,target)\n",
    "    bc_pheromone_nx_graph.unpersist()\n",
    "    bc_pheromone_nx_graph = sc.broadcast(pheromone_nx_graph)\n",
    "    \n",
    "    if best_path_distance < np.inf:\n",
    "        toc = time.time()\n",
    "        gap = toc-tic\n",
    "        print (u\"迭代次数：\",the_iter,u\"最佳路径总距离：\",int(best_path_distance),\"路径为：\",best_path,\"搜索时长：\",gap)\n",
    "    else:\n",
    "        print(u\"迭代次数：\",the_iter,u\"无法到达！\")\n",
    "    the_iter += 1\n"
   ]
  },
  {
   "cell_type": "code",
   "execution_count": 13,
   "metadata": {},
   "outputs": [
    {
     "name": "stdout",
     "output_type": "stream",
     "text": [
      "PythonRDD[1] at RDD at PythonRDD.scala:53\n"
     ]
    }
   ],
   "source": [
    "print(ants_RDD_searched)"
   ]
  },
  {
   "cell_type": "code",
   "execution_count": 15,
   "metadata": {},
   "outputs": [
    {
     "name": "stdout",
     "output_type": "stream",
     "text": [
      "[(inf, [255, 274, 273, 251, 14, 237, 222, 232, 221, 231, 261, 101, 250, 4811, 4809, 4810, 4812, 4814, 236, 239, 240, 247]), (inf, [255, 276, 278, 6500]), (inf, [255, 229, 228, 227, 225, 223, 222, 232, 221, 231, 261, 101, 100, 234, 233]), (inf, [255, 276, 278, 6500]), (inf, [255, 276, 277]), (inf, [255, 274, 275]), (inf, [255, 274, 273, 251, 252, 2315]), (inf, [255, 274, 273, 251, 252, 1549, 246, 245, 240, 247]), (inf, [255, 274, 273, 251, 252, 1549, 1552, 1556, 1553, 1557, 1558, 1586, 1589, 1590]), (inf, [255, 274, 273, 251, 252, 1549, 246, 245, 242, 243])]\n"
     ]
    }
   ],
   "source": [
    "print(ants_searched)"
   ]
  },
  {
   "cell_type": "code",
   "execution_count": 32,
   "metadata": {},
   "outputs": [
    {
     "name": "stdout",
     "output_type": "stream",
     "text": [
      "[(inf, [255, 274, 273, 251, 252, 1549, 246, 245, 240, 247]), (inf, [255, 274, 273, 251, 252, 2315]), (inf, [255, 276, 277]), (inf, [255, 229, 256, 257, 259]), (inf, [255, 274, 273, 251, 252, 1549, 1552, 1554]), (inf, [255, 276, 278, 6500]), (inf, [255, 276, 278, 272, 271, 279, 280, 282, 283, 379]), (inf, [255, 229, 256, 257, 258]), (inf, [255, 276, 278, 6500]), (inf, [255, 276, 277])]\n"
     ]
    }
   ],
   "source": [
    "ants_RDD_searched_2 = ants_RDD.map(lambda x: x.search_path(bc_distance_nx_graph.value, bc_pheromone_nx_graph.value, bc_city_co.value))\n",
    "ants_searched_2 = ants_RDD_searched_2.collect()\n",
    "print(ants_searched_2)"
   ]
  },
  {
   "cell_type": "code",
   "execution_count": 20,
   "metadata": {},
   "outputs": [
    {
     "data": {
      "text/plain": [
       "(inf, [255, 276, 278, 6500])"
      ]
     },
     "execution_count": 20,
     "metadata": {},
     "output_type": "execute_result"
    }
   ],
   "source": [
    "ants_searched[1]"
   ]
  },
  {
   "cell_type": "code",
   "execution_count": 14,
   "metadata": {},
   "outputs": [
    {
     "name": "stdout",
     "output_type": "stream",
     "text": [
      "0\n"
     ]
    }
   ],
   "source": [
    "print(RDD_distance_list.index(min(RDD_distance_list)))"
   ]
  },
  {
   "cell_type": "code",
   "execution_count": 13,
   "metadata": {},
   "outputs": [
    {
     "name": "stdout",
     "output_type": "stream",
     "text": [
      "迭代次数： 1 无法到达！\n",
      "迭代次数： 2 无法到达！\n",
      "迭代次数： 3 无法到达！\n",
      "迭代次数： 4 无法到达！\n",
      "迭代次数： 5 无法到达！\n",
      "迭代次数： 6 无法到达！\n",
      "迭代次数： 7 无法到达！\n",
      "迭代次数： 8 无法到达！\n",
      "迭代次数： 9 无法到达！\n",
      "迭代次数： 10 无法到达！\n",
      "迭代次数： 11 无法到达！\n",
      "迭代次数： 12 无法到达！\n",
      "迭代次数： 13 无法到达！\n",
      "迭代次数： 14 无法到达！\n",
      "迭代次数： 15 无法到达！\n",
      "found a path!\n",
      "迭代次数： 16 最佳路径总距离： 43105 路径为： 255------276------278------271------279------280------282------269------267------266------214------213------212------211------210------298------300 搜索时长： 0.03349661827087402\n",
      "迭代次数： 17 最佳路径总距离： 43105 路径为： 255------276------278------271------279------280------282------269------267------266------214------213------212------211------210------298------300 搜索时长： 0.03394365310668945\n",
      "迭代次数： 18 最佳路径总距离： 43105 路径为： 255------276------278------271------279------280------282------269------267------266------214------213------212------211------210------298------300 搜索时长： 0.03284740447998047\n",
      "迭代次数： 19 最佳路径总距离： 43105 路径为： 255------276------278------271------279------280------282------269------267------266------214------213------212------211------210------298------300 搜索时长： 0.03153491020202637\n",
      "迭代次数： 20 最佳路径总距离： 43105 路径为： 255------276------278------271------279------280------282------269------267------266------214------213------212------211------210------298------300 搜索时长： 0.033820390701293945\n",
      "迭代次数： 21 最佳路径总距离： 43105 路径为： 255------276------278------271------279------280------282------269------267------266------214------213------212------211------210------298------300 搜索时长： 0.031316518783569336\n",
      "迭代次数： 22 最佳路径总距离： 43105 路径为： 255------276------278------271------279------280------282------269------267------266------214------213------212------211------210------298------300 搜索时长： 0.033896684646606445\n",
      "迭代次数： 23 最佳路径总距离： 43105 路径为： 255------276------278------271------279------280------282------269------267------266------214------213------212------211------210------298------300 搜索时长： 0.03281044960021973\n",
      "迭代次数： 24 最佳路径总距离： 43105 路径为： 255------276------278------271------279------280------282------269------267------266------214------213------212------211------210------298------300 搜索时长： 0.034712791442871094\n",
      "迭代次数： 25 最佳路径总距离： 43105 路径为： 255------276------278------271------279------280------282------269------267------266------214------213------212------211------210------298------300 搜索时长： 0.03184080123901367\n",
      "迭代次数： 26 最佳路径总距离： 43105 路径为： 255------276------278------271------279------280------282------269------267------266------214------213------212------211------210------298------300 搜索时长： 0.03378629684448242\n",
      "迭代次数： 27 最佳路径总距离： 43105 路径为： 255------276------278------271------279------280------282------269------267------266------214------213------212------211------210------298------300 搜索时长： 0.034414052963256836\n",
      "迭代次数： 28 最佳路径总距离： 43105 路径为： 255------276------278------271------279------280------282------269------267------266------214------213------212------211------210------298------300 搜索时长： 0.030388593673706055\n",
      "迭代次数： 29 最佳路径总距离： 43105 路径为： 255------276------278------271------279------280------282------269------267------266------214------213------212------211------210------298------300 搜索时长： 0.03818035125732422\n",
      "迭代次数： 30 最佳路径总距离： 43105 路径为： 255------276------278------271------279------280------282------269------267------266------214------213------212------211------210------298------300 搜索时长： 0.03194141387939453\n",
      "迭代次数： 31 最佳路径总距离： 43105 路径为： 255------276------278------271------279------280------282------269------267------266------214------213------212------211------210------298------300 搜索时长： 0.03569674491882324\n",
      "迭代次数： 32 最佳路径总距离： 43105 路径为： 255------276------278------271------279------280------282------269------267------266------214------213------212------211------210------298------300 搜索时长： 0.04378843307495117\n",
      "迭代次数： 33 最佳路径总距离： 43105 路径为： 255------276------278------271------279------280------282------269------267------266------214------213------212------211------210------298------300 搜索时长： 0.03278994560241699\n",
      "迭代次数： 34 最佳路径总距离： 43105 路径为： 255------276------278------271------279------280------282------269------267------266------214------213------212------211------210------298------300 搜索时长： 0.03769421577453613\n",
      "迭代次数： 35 最佳路径总距离： 43105 路径为： 255------276------278------271------279------280------282------269------267------266------214------213------212------211------210------298------300 搜索时长： 0.03306412696838379\n",
      "迭代次数： 36 最佳路径总距离： 43105 路径为： 255------276------278------271------279------280------282------269------267------266------214------213------212------211------210------298------300 搜索时长： 0.03891348838806152\n",
      "迭代次数： 37 最佳路径总距离： 43105 路径为： 255------276------278------271------279------280------282------269------267------266------214------213------212------211------210------298------300 搜索时长： 0.03444981575012207\n",
      "迭代次数： 38 最佳路径总距离： 43105 路径为： 255------276------278------271------279------280------282------269------267------266------214------213------212------211------210------298------300 搜索时长： 0.035062551498413086\n",
      "迭代次数： 39 最佳路径总距离： 43105 路径为： 255------276------278------271------279------280------282------269------267------266------214------213------212------211------210------298------300 搜索时长： 0.03358292579650879\n",
      "迭代次数： 40 最佳路径总距离： 43105 路径为： 255------276------278------271------279------280------282------269------267------266------214------213------212------211------210------298------300 搜索时长： 0.04024362564086914\n",
      "迭代次数： 41 最佳路径总距离： 43105 路径为： 255------276------278------271------279------280------282------269------267------266------214------213------212------211------210------298------300 搜索时长： 0.03819608688354492\n",
      "迭代次数： 42 最佳路径总距离： 43105 路径为： 255------276------278------271------279------280------282------269------267------266------214------213------212------211------210------298------300 搜索时长： 0.0408782958984375\n",
      "迭代次数： 43 最佳路径总距离： 43105 路径为： 255------276------278------271------279------280------282------269------267------266------214------213------212------211------210------298------300 搜索时长： 0.030385494232177734\n",
      "迭代次数： 44 最佳路径总距离： 43105 路径为： 255------276------278------271------279------280------282------269------267------266------214------213------212------211------210------298------300 搜索时长： 0.03448963165283203\n",
      "迭代次数： 45 最佳路径总距离： 43105 路径为： 255------276------278------271------279------280------282------269------267------266------214------213------212------211------210------298------300 搜索时长： 0.03245687484741211\n",
      "迭代次数： 46 最佳路径总距离： 43105 路径为： 255------276------278------271------279------280------282------269------267------266------214------213------212------211------210------298------300 搜索时长： 0.03237581253051758\n",
      "迭代次数： 47 最佳路径总距离： 43105 路径为： 255------276------278------271------279------280------282------269------267------266------214------213------212------211------210------298------300 搜索时长： 0.03212141990661621\n",
      "迭代次数： 48 最佳路径总距离： 43105 路径为： 255------276------278------271------279------280------282------269------267------266------214------213------212------211------210------298------300 搜索时长： 0.03508591651916504\n",
      "迭代次数： 49 最佳路径总距离： 43105 路径为： 255------276------278------271------279------280------282------269------267------266------214------213------212------211------210------298------300 搜索时长： 0.03137373924255371\n",
      "迭代次数： 50 最佳路径总距离： 43105 路径为： 255------276------278------271------279------280------282------269------267------266------214------213------212------211------210------298------300 搜索时长： 0.0342097282409668\n",
      "迭代次数： 51 最佳路径总距离： 43105 路径为： 255------276------278------271------279------280------282------269------267------266------214------213------212------211------210------298------300 搜索时长： 0.032434701919555664\n",
      "迭代次数： 52 最佳路径总距离： 43105 路径为： 255------276------278------271------279------280------282------269------267------266------214------213------212------211------210------298------300 搜索时长： 0.03360581398010254\n",
      "迭代次数： 53 最佳路径总距离： 43105 路径为： 255------276------278------271------279------280------282------269------267------266------214------213------212------211------210------298------300 搜索时长： 0.032538652420043945\n",
      "迭代次数： 54 最佳路径总距离： 43105 路径为： 255------276------278------271------279------280------282------269------267------266------214------213------212------211------210------298------300 搜索时长： 0.03393125534057617\n",
      "迭代次数： 55 最佳路径总距离： 43105 路径为： 255------276------278------271------279------280------282------269------267------266------214------213------212------211------210------298------300 搜索时长： 0.03299665451049805\n",
      "迭代次数： 56 最佳路径总距离： 43105 路径为： 255------276------278------271------279------280------282------269------267------266------214------213------212------211------210------298------300 搜索时长： 0.03519105911254883\n",
      "迭代次数： 57 最佳路径总距离： 43105 路径为： 255------276------278------271------279------280------282------269------267------266------214------213------212------211------210------298------300 搜索时长： 0.0345766544342041\n"
     ]
    },
    {
     "name": "stdout",
     "output_type": "stream",
     "text": [
      "迭代次数： 58 最佳路径总距离： 43105 路径为： 255------276------278------271------279------280------282------269------267------266------214------213------212------211------210------298------300 搜索时长： 0.034371376037597656\n",
      "迭代次数： 59 最佳路径总距离： 43105 路径为： 255------276------278------271------279------280------282------269------267------266------214------213------212------211------210------298------300 搜索时长： 0.03503680229187012\n",
      "迭代次数： 60 最佳路径总距离： 43105 路径为： 255------276------278------271------279------280------282------269------267------266------214------213------212------211------210------298------300 搜索时长： 0.031473636627197266\n",
      "迭代次数： 61 最佳路径总距离： 43105 路径为： 255------276------278------271------279------280------282------269------267------266------214------213------212------211------210------298------300 搜索时长： 0.03602433204650879\n",
      "迭代次数： 62 最佳路径总距离： 43105 路径为： 255------276------278------271------279------280------282------269------267------266------214------213------212------211------210------298------300 搜索时长： 0.029761314392089844\n",
      "迭代次数： 63 最佳路径总距离： 43105 路径为： 255------276------278------271------279------280------282------269------267------266------214------213------212------211------210------298------300 搜索时长： 0.036365509033203125\n",
      "迭代次数： 64 最佳路径总距离： 43105 路径为： 255------276------278------271------279------280------282------269------267------266------214------213------212------211------210------298------300 搜索时长： 0.03139185905456543\n",
      "迭代次数： 65 最佳路径总距离： 43105 路径为： 255------276------278------271------279------280------282------269------267------266------214------213------212------211------210------298------300 搜索时长： 0.03365159034729004\n",
      "迭代次数： 66 最佳路径总距离： 43105 路径为： 255------276------278------271------279------280------282------269------267------266------214------213------212------211------210------298------300 搜索时长： 0.038666486740112305\n",
      "迭代次数： 67 最佳路径总距离： 43105 路径为： 255------276------278------271------279------280------282------269------267------266------214------213------212------211------210------298------300 搜索时长： 0.03521108627319336\n",
      "迭代次数： 68 最佳路径总距离： 43105 路径为： 255------276------278------271------279------280------282------269------267------266------214------213------212------211------210------298------300 搜索时长： 0.035056352615356445\n",
      "迭代次数： 69 最佳路径总距离： 43105 路径为： 255------276------278------271------279------280------282------269------267------266------214------213------212------211------210------298------300 搜索时长： 0.035051584243774414\n",
      "迭代次数： 70 最佳路径总距离： 43105 路径为： 255------276------278------271------279------280------282------269------267------266------214------213------212------211------210------298------300 搜索时长： 0.0340421199798584\n",
      "迭代次数： 71 最佳路径总距离： 43105 路径为： 255------276------278------271------279------280------282------269------267------266------214------213------212------211------210------298------300 搜索时长： 0.038031816482543945\n",
      "迭代次数： 72 最佳路径总距离： 43105 路径为： 255------276------278------271------279------280------282------269------267------266------214------213------212------211------210------298------300 搜索时长： 0.034702301025390625\n",
      "迭代次数： 73 最佳路径总距离： 43105 路径为： 255------276------278------271------279------280------282------269------267------266------214------213------212------211------210------298------300 搜索时长： 0.03492259979248047\n",
      "迭代次数： 74 最佳路径总距离： 43105 路径为： 255------276------278------271------279------280------282------269------267------266------214------213------212------211------210------298------300 搜索时长： 0.04127669334411621\n",
      "迭代次数： 75 最佳路径总距离： 43105 路径为： 255------276------278------271------279------280------282------269------267------266------214------213------212------211------210------298------300 搜索时长： 0.03158926963806152\n",
      "迭代次数： 76 最佳路径总距离： 43105 路径为： 255------276------278------271------279------280------282------269------267------266------214------213------212------211------210------298------300 搜索时长： 0.033949851989746094\n",
      "迭代次数： 77 最佳路径总距离： 43105 路径为： 255------276------278------271------279------280------282------269------267------266------214------213------212------211------210------298------300 搜索时长： 0.03285074234008789\n",
      "迭代次数： 78 最佳路径总距离： 43105 路径为： 255------276------278------271------279------280------282------269------267------266------214------213------212------211------210------298------300 搜索时长： 0.03277134895324707\n",
      "迭代次数： 79 最佳路径总距离： 43105 路径为： 255------276------278------271------279------280------282------269------267------266------214------213------212------211------210------298------300 搜索时长： 0.04104924201965332\n",
      "迭代次数： 80 最佳路径总距离： 43105 路径为： 255------276------278------271------279------280------282------269------267------266------214------213------212------211------210------298------300 搜索时长： 0.03273773193359375\n",
      "迭代次数： 81 最佳路径总距离： 43105 路径为： 255------276------278------271------279------280------282------269------267------266------214------213------212------211------210------298------300 搜索时长： 0.03339719772338867\n",
      "迭代次数： 82 最佳路径总距离： 43105 路径为： 255------276------278------271------279------280------282------269------267------266------214------213------212------211------210------298------300 搜索时长： 0.03360271453857422\n",
      "迭代次数： 83 最佳路径总距离： 43105 路径为： 255------276------278------271------279------280------282------269------267------266------214------213------212------211------210------298------300 搜索时长： 0.03246021270751953\n",
      "迭代次数： 84 最佳路径总距离： 43105 路径为： 255------276------278------271------279------280------282------269------267------266------214------213------212------211------210------298------300 搜索时长： 0.0350496768951416\n",
      "迭代次数： 85 最佳路径总距离： 43105 路径为： 255------276------278------271------279------280------282------269------267------266------214------213------212------211------210------298------300 搜索时长： 0.030987262725830078\n",
      "迭代次数： 86 最佳路径总距离： 43105 路径为： 255------276------278------271------279------280------282------269------267------266------214------213------212------211------210------298------300 搜索时长： 0.038869619369506836\n",
      "迭代次数： 87 最佳路径总距离： 43105 路径为： 255------276------278------271------279------280------282------269------267------266------214------213------212------211------210------298------300 搜索时长： 0.03298020362854004\n",
      "迭代次数： 88 最佳路径总距离： 43105 路径为： 255------276------278------271------279------280------282------269------267------266------214------213------212------211------210------298------300 搜索时长： 0.032825469970703125\n",
      "迭代次数： 89 最佳路径总距离： 43105 路径为： 255------276------278------271------279------280------282------269------267------266------214------213------212------211------210------298------300 搜索时长： 0.032495975494384766\n",
      "迭代次数： 90 最佳路径总距离： 43105 路径为： 255------276------278------271------279------280------282------269------267------266------214------213------212------211------210------298------300 搜索时长： 0.034148454666137695\n",
      "迭代次数： 91 最佳路径总距离： 43105 路径为： 255------276------278------271------279------280------282------269------267------266------214------213------212------211------210------298------300 搜索时长： 0.035170793533325195\n",
      "迭代次数： 92 最佳路径总距离： 43105 路径为： 255------276------278------271------279------280------282------269------267------266------214------213------212------211------210------298------300 搜索时长： 0.03751492500305176\n",
      "迭代次数： 93 最佳路径总距离： 43105 路径为： 255------276------278------271------279------280------282------269------267------266------214------213------212------211------210------298------300 搜索时长： 0.034316301345825195\n",
      "迭代次数： 94 最佳路径总距离： 43105 路径为： 255------276------278------271------279------280------282------269------267------266------214------213------212------211------210------298------300 搜索时长： 0.033471107482910156\n",
      "迭代次数： 95 最佳路径总距离： 43105 路径为： 255------276------278------271------279------280------282------269------267------266------214------213------212------211------210------298------300 搜索时长： 0.05130410194396973\n",
      "迭代次数： 96 最佳路径总距离： 43105 路径为： 255------276------278------271------279------280------282------269------267------266------214------213------212------211------210------298------300 搜索时长： 0.03941679000854492\n",
      "迭代次数： 97 最佳路径总距离： 43105 路径为： 255------276------278------271------279------280------282------269------267------266------214------213------212------211------210------298------300 搜索时长： 0.032930850982666016\n",
      "迭代次数： 98 最佳路径总距离： 43105 路径为： 255------276------278------271------279------280------282------269------267------266------214------213------212------211------210------298------300 搜索时长： 0.03920745849609375\n",
      "迭代次数： 99 最佳路径总距离： 43105 路径为： 255------276------278------271------279------280------282------269------267------266------214------213------212------211------210------298------300 搜索时长： 0.03280353546142578\n",
      "迭代次数： 100 最佳路径总距离： 43105 路径为： 255------276------278------271------279------280------282------269------267------266------214------213------212------211------210------298------300 搜索时长： 0.03841996192932129\n",
      "迭代次数： 101 最佳路径总距离： 43105 路径为： 255------276------278------271------279------280------282------269------267------266------214------213------212------211------210------298------300 搜索时长： 0.03412508964538574\n"
     ]
    },
    {
     "name": "stdout",
     "output_type": "stream",
     "text": [
      "迭代次数： 102 最佳路径总距离： 43105 路径为： 255------276------278------271------279------280------282------269------267------266------214------213------212------211------210------298------300 搜索时长： 0.03584122657775879\n",
      "迭代次数： 103 最佳路径总距离： 43105 路径为： 255------276------278------271------279------280------282------269------267------266------214------213------212------211------210------298------300 搜索时长： 0.03397536277770996\n",
      "迭代次数： 104 最佳路径总距离： 43105 路径为： 255------276------278------271------279------280------282------269------267------266------214------213------212------211------210------298------300 搜索时长： 0.035918235778808594\n",
      "迭代次数： 105 最佳路径总距离： 43105 路径为： 255------276------278------271------279------280------282------269------267------266------214------213------212------211------210------298------300 搜索时长： 0.03693747520446777\n",
      "迭代次数： 106 最佳路径总距离： 43105 路径为： 255------276------278------271------279------280------282------269------267------266------214------213------212------211------210------298------300 搜索时长： 0.03496909141540527\n",
      "迭代次数： 107 最佳路径总距离： 43105 路径为： 255------276------278------271------279------280------282------269------267------266------214------213------212------211------210------298------300 搜索时长： 0.034650564193725586\n",
      "迭代次数： 108 最佳路径总距离： 43105 路径为： 255------276------278------271------279------280------282------269------267------266------214------213------212------211------210------298------300 搜索时长： 0.03285479545593262\n",
      "迭代次数： 109 最佳路径总距离： 43105 路径为： 255------276------278------271------279------280------282------269------267------266------214------213------212------211------210------298------300 搜索时长： 0.037186384201049805\n",
      "迭代次数： 110 最佳路径总距离： 43105 路径为： 255------276------278------271------279------280------282------269------267------266------214------213------212------211------210------298------300 搜索时长： 0.030801057815551758\n",
      "迭代次数： 111 最佳路径总距离： 43105 路径为： 255------276------278------271------279------280------282------269------267------266------214------213------212------211------210------298------300 搜索时长： 0.0350346565246582\n",
      "迭代次数： 112 最佳路径总距离： 43105 路径为： 255------276------278------271------279------280------282------269------267------266------214------213------212------211------210------298------300 搜索时长： 0.03404879570007324\n",
      "迭代次数： 113 最佳路径总距离： 43105 路径为： 255------276------278------271------279------280------282------269------267------266------214------213------212------211------210------298------300 搜索时长： 0.04171419143676758\n",
      "迭代次数： 114 最佳路径总距离： 43105 路径为： 255------276------278------271------279------280------282------269------267------266------214------213------212------211------210------298------300 搜索时长： 0.03636884689331055\n",
      "迭代次数： 115 最佳路径总距离： 43105 路径为： 255------276------278------271------279------280------282------269------267------266------214------213------212------211------210------298------300 搜索时长： 0.06285691261291504\n",
      "迭代次数： 116 最佳路径总距离： 43105 路径为： 255------276------278------271------279------280------282------269------267------266------214------213------212------211------210------298------300 搜索时长： 0.03629016876220703\n",
      "迭代次数： 117 最佳路径总距离： 43105 路径为： 255------276------278------271------279------280------282------269------267------266------214------213------212------211------210------298------300 搜索时长： 0.031970977783203125\n",
      "迭代次数： 118 最佳路径总距离： 43105 路径为： 255------276------278------271------279------280------282------269------267------266------214------213------212------211------210------298------300 搜索时长： 0.031488895416259766\n",
      "迭代次数： 119 最佳路径总距离： 43105 路径为： 255------276------278------271------279------280------282------269------267------266------214------213------212------211------210------298------300 搜索时长： 0.03348660469055176\n",
      "迭代次数： 120 最佳路径总距离： 43105 路径为： 255------276------278------271------279------280------282------269------267------266------214------213------212------211------210------298------300 搜索时长： 0.03098273277282715\n",
      "迭代次数： 121 最佳路径总距离： 43105 路径为： 255------276------278------271------279------280------282------269------267------266------214------213------212------211------210------298------300 搜索时长： 0.035218238830566406\n",
      "迭代次数： 122 最佳路径总距离： 43105 路径为： 255------276------278------271------279------280------282------269------267------266------214------213------212------211------210------298------300 搜索时长： 0.03519892692565918\n",
      "迭代次数： 123 最佳路径总距离： 43105 路径为： 255------276------278------271------279------280------282------269------267------266------214------213------212------211------210------298------300 搜索时长： 0.03113079071044922\n",
      "迭代次数： 124 最佳路径总距离： 43105 路径为： 255------276------278------271------279------280------282------269------267------266------214------213------212------211------210------298------300 搜索时长： 0.03572344779968262\n",
      "迭代次数： 125 最佳路径总距离： 43105 路径为： 255------276------278------271------279------280------282------269------267------266------214------213------212------211------210------298------300 搜索时长： 0.03298830986022949\n",
      "迭代次数： 126 最佳路径总距离： 43105 路径为： 255------276------278------271------279------280------282------269------267------266------214------213------212------211------210------298------300 搜索时长： 0.03338360786437988\n",
      "迭代次数： 127 最佳路径总距离： 43105 路径为： 255------276------278------271------279------280------282------269------267------266------214------213------212------211------210------298------300 搜索时长： 0.037345170974731445\n",
      "迭代次数： 128 最佳路径总距离： 43105 路径为： 255------276------278------271------279------280------282------269------267------266------214------213------212------211------210------298------300 搜索时长： 0.034467220306396484\n",
      "迭代次数： 129 最佳路径总距离： 43105 路径为： 255------276------278------271------279------280------282------269------267------266------214------213------212------211------210------298------300 搜索时长： 0.03747677803039551\n",
      "迭代次数： 130 最佳路径总距离： 43105 路径为： 255------276------278------271------279------280------282------269------267------266------214------213------212------211------210------298------300 搜索时长： 0.031804800033569336\n",
      "迭代次数： 131 最佳路径总距离： 43105 路径为： 255------276------278------271------279------280------282------269------267------266------214------213------212------211------210------298------300 搜索时长： 0.03658604621887207\n",
      "迭代次数： 132 最佳路径总距离： 43105 路径为： 255------276------278------271------279------280------282------269------267------266------214------213------212------211------210------298------300 搜索时长： 0.033240318298339844\n",
      "迭代次数： 133 最佳路径总距离： 43105 路径为： 255------276------278------271------279------280------282------269------267------266------214------213------212------211------210------298------300 搜索时长： 0.03428387641906738\n",
      "迭代次数： 134 最佳路径总距离： 43105 路径为： 255------276------278------271------279------280------282------269------267------266------214------213------212------211------210------298------300 搜索时长： 0.02870774269104004\n",
      "迭代次数： 135 最佳路径总距离： 43105 路径为： 255------276------278------271------279------280------282------269------267------266------214------213------212------211------210------298------300 搜索时长： 0.03654789924621582\n",
      "迭代次数： 136 最佳路径总距离： 43105 路径为： 255------276------278------271------279------280------282------269------267------266------214------213------212------211------210------298------300 搜索时长： 0.03202390670776367\n",
      "迭代次数： 137 最佳路径总距离： 43105 路径为： 255------276------278------271------279------280------282------269------267------266------214------213------212------211------210------298------300 搜索时长： 0.03712654113769531\n",
      "迭代次数： 138 最佳路径总距离： 43105 路径为： 255------276------278------271------279------280------282------269------267------266------214------213------212------211------210------298------300 搜索时长： 0.034987688064575195\n",
      "迭代次数： 139 最佳路径总距离： 43105 路径为： 255------276------278------271------279------280------282------269------267------266------214------213------212------211------210------298------300 搜索时长： 0.033866167068481445\n",
      "迭代次数： 140 最佳路径总距离： 43105 路径为： 255------276------278------271------279------280------282------269------267------266------214------213------212------211------210------298------300 搜索时长： 0.030237674713134766\n",
      "迭代次数： 141 最佳路径总距离： 43105 路径为： 255------276------278------271------279------280------282------269------267------266------214------213------212------211------210------298------300 搜索时长： 0.03702282905578613\n",
      "迭代次数： 142 最佳路径总距离： 43105 路径为： 255------276------278------271------279------280------282------269------267------266------214------213------212------211------210------298------300 搜索时长： 0.03202056884765625\n",
      "迭代次数： 143 最佳路径总距离： 43105 路径为： 255------276------278------271------279------280------282------269------267------266------214------213------212------211------210------298------300 搜索时长： 0.034375667572021484\n",
      "迭代次数： 144 最佳路径总距离： 43105 路径为： 255------276------278------271------279------280------282------269------267------266------214------213------212------211------210------298------300 搜索时长： 0.03200864791870117\n"
     ]
    },
    {
     "name": "stdout",
     "output_type": "stream",
     "text": [
      "迭代次数： 145 最佳路径总距离： 43105 路径为： 255------276------278------271------279------280------282------269------267------266------214------213------212------211------210------298------300 搜索时长： 0.03679084777832031\n",
      "迭代次数： 146 最佳路径总距离： 43105 路径为： 255------276------278------271------279------280------282------269------267------266------214------213------212------211------210------298------300 搜索时长： 0.033591508865356445\n",
      "迭代次数： 147 最佳路径总距离： 43105 路径为： 255------276------278------271------279------280------282------269------267------266------214------213------212------211------210------298------300 搜索时长： 0.03451824188232422\n",
      "迭代次数： 148 最佳路径总距离： 43105 路径为： 255------276------278------271------279------280------282------269------267------266------214------213------212------211------210------298------300 搜索时长： 0.03251791000366211\n",
      "迭代次数： 149 最佳路径总距离： 43105 路径为： 255------276------278------271------279------280------282------269------267------266------214------213------212------211------210------298------300 搜索时长： 0.03321075439453125\n",
      "迭代次数： 150 最佳路径总距离： 43105 路径为： 255------276------278------271------279------280------282------269------267------266------214------213------212------211------210------298------300 搜索时长： 0.0316011905670166\n",
      "迭代次数： 151 最佳路径总距离： 43105 路径为： 255------276------278------271------279------280------282------269------267------266------214------213------212------211------210------298------300 搜索时长： 0.03361320495605469\n",
      "迭代次数： 152 最佳路径总距离： 43105 路径为： 255------276------278------271------279------280------282------269------267------266------214------213------212------211------210------298------300 搜索时长： 0.03329157829284668\n",
      "迭代次数： 153 最佳路径总距离： 43105 路径为： 255------276------278------271------279------280------282------269------267------266------214------213------212------211------210------298------300 搜索时长： 0.03166079521179199\n",
      "迭代次数： 154 最佳路径总距离： 43105 路径为： 255------276------278------271------279------280------282------269------267------266------214------213------212------211------210------298------300 搜索时长： 0.03733110427856445\n",
      "迭代次数： 155 最佳路径总距离： 43105 路径为： 255------276------278------271------279------280------282------269------267------266------214------213------212------211------210------298------300 搜索时长： 0.03185009956359863\n",
      "迭代次数： 156 最佳路径总距离： 43105 路径为： 255------276------278------271------279------280------282------269------267------266------214------213------212------211------210------298------300 搜索时长： 0.03227114677429199\n",
      "迭代次数： 157 最佳路径总距离： 43105 路径为： 255------276------278------271------279------280------282------269------267------266------214------213------212------211------210------298------300 搜索时长： 0.03641319274902344\n",
      "迭代次数： 158 最佳路径总距离： 43105 路径为： 255------276------278------271------279------280------282------269------267------266------214------213------212------211------210------298------300 搜索时长： 0.033796072006225586\n",
      "迭代次数： 159 最佳路径总距离： 43105 路径为： 255------276------278------271------279------280------282------269------267------266------214------213------212------211------210------298------300 搜索时长： 0.03633761405944824\n",
      "迭代次数： 160 最佳路径总距离： 43105 路径为： 255------276------278------271------279------280------282------269------267------266------214------213------212------211------210------298------300 搜索时长： 0.03707146644592285\n",
      "迭代次数： 161 最佳路径总距离： 43105 路径为： 255------276------278------271------279------280------282------269------267------266------214------213------212------211------210------298------300 搜索时长： 0.030111312866210938\n",
      "迭代次数： 162 最佳路径总距离： 43105 路径为： 255------276------278------271------279------280------282------269------267------266------214------213------212------211------210------298------300 搜索时长： 0.03676033020019531\n",
      "迭代次数： 163 最佳路径总距离： 43105 路径为： 255------276------278------271------279------280------282------269------267------266------214------213------212------211------210------298------300 搜索时长： 0.03292036056518555\n",
      "迭代次数： 164 最佳路径总距离： 43105 路径为： 255------276------278------271------279------280------282------269------267------266------214------213------212------211------210------298------300 搜索时长： 0.03945159912109375\n",
      "迭代次数： 165 最佳路径总距离： 43105 路径为： 255------276------278------271------279------280------282------269------267------266------214------213------212------211------210------298------300 搜索时长： 0.033828020095825195\n",
      "迭代次数： 166 最佳路径总距离： 43105 路径为： 255------276------278------271------279------280------282------269------267------266------214------213------212------211------210------298------300 搜索时长： 0.036657094955444336\n",
      "迭代次数： 167 最佳路径总距离： 43105 路径为： 255------276------278------271------279------280------282------269------267------266------214------213------212------211------210------298------300 搜索时长： 0.034032344818115234\n",
      "迭代次数： 168 最佳路径总距离： 43105 路径为： 255------276------278------271------279------280------282------269------267------266------214------213------212------211------210------298------300 搜索时长： 0.0384521484375\n",
      "迭代次数： 169 最佳路径总距离： 43105 路径为： 255------276------278------271------279------280------282------269------267------266------214------213------212------211------210------298------300 搜索时长： 0.03376054763793945\n",
      "迭代次数： 170 最佳路径总距离： 43105 路径为： 255------276------278------271------279------280------282------269------267------266------214------213------212------211------210------298------300 搜索时长： 0.03347301483154297\n",
      "迭代次数： 171 最佳路径总距离： 43105 路径为： 255------276------278------271------279------280------282------269------267------266------214------213------212------211------210------298------300 搜索时长： 0.03273200988769531\n",
      "迭代次数： 172 最佳路径总距离： 43105 路径为： 255------276------278------271------279------280------282------269------267------266------214------213------212------211------210------298------300 搜索时长： 0.03419637680053711\n",
      "迭代次数： 173 最佳路径总距离： 43105 路径为： 255------276------278------271------279------280------282------269------267------266------214------213------212------211------210------298------300 搜索时长： 0.0321195125579834\n",
      "迭代次数： 174 最佳路径总距离： 43105 路径为： 255------276------278------271------279------280------282------269------267------266------214------213------212------211------210------298------300 搜索时长： 0.03620409965515137\n",
      "迭代次数： 175 最佳路径总距离： 43105 路径为： 255------276------278------271------279------280------282------269------267------266------214------213------212------211------210------298------300 搜索时长： 0.034609317779541016\n",
      "迭代次数： 176 最佳路径总距离： 43105 路径为： 255------276------278------271------279------280------282------269------267------266------214------213------212------211------210------298------300 搜索时长： 0.03602457046508789\n",
      "迭代次数： 177 最佳路径总距离： 43105 路径为： 255------276------278------271------279------280------282------269------267------266------214------213------212------211------210------298------300 搜索时长： 0.0335385799407959\n",
      "迭代次数： 178 最佳路径总距离： 43105 路径为： 255------276------278------271------279------280------282------269------267------266------214------213------212------211------210------298------300 搜索时长： 0.03290367126464844\n",
      "迭代次数： 179 最佳路径总距离： 43105 路径为： 255------276------278------271------279------280------282------269------267------266------214------213------212------211------210------298------300 搜索时长： 0.03388214111328125\n",
      "迭代次数： 180 最佳路径总距离： 43105 路径为： 255------276------278------271------279------280------282------269------267------266------214------213------212------211------210------298------300 搜索时长： 0.02926015853881836\n",
      "迭代次数： 181 最佳路径总距离： 43105 路径为： 255------276------278------271------279------280------282------269------267------266------214------213------212------211------210------298------300 搜索时长： 0.03136849403381348\n",
      "迭代次数： 182 最佳路径总距离： 43105 路径为： 255------276------278------271------279------280------282------269------267------266------214------213------212------211------210------298------300 搜索时长： 0.0305025577545166\n",
      "迭代次数： 183 最佳路径总距离： 43105 路径为： 255------276------278------271------279------280------282------269------267------266------214------213------212------211------210------298------300 搜索时长： 0.03471088409423828\n",
      "迭代次数： 184 最佳路径总距离： 43105 路径为： 255------276------278------271------279------280------282------269------267------266------214------213------212------211------210------298------300 搜索时长： 0.03156423568725586\n",
      "迭代次数： 185 最佳路径总距离： 43105 路径为： 255------276------278------271------279------280------282------269------267------266------214------213------212------211------210------298------300 搜索时长： 0.0355830192565918\n",
      "迭代次数： 186 最佳路径总距离： 43105 路径为： 255------276------278------271------279------280------282------269------267------266------214------213------212------211------210------298------300 搜索时长： 0.03459453582763672\n",
      "迭代次数： 187 最佳路径总距离： 43105 路径为： 255------276------278------271------279------280------282------269------267------266------214------213------212------211------210------298------300 搜索时长： 0.03528928756713867\n",
      "迭代次数： 188 最佳路径总距离： 43105 路径为： 255------276------278------271------279------280------282------269------267------266------214------213------212------211------210------298------300 搜索时长： 0.0323333740234375\n"
     ]
    },
    {
     "name": "stdout",
     "output_type": "stream",
     "text": [
      "迭代次数： 189 最佳路径总距离： 43105 路径为： 255------276------278------271------279------280------282------269------267------266------214------213------212------211------210------298------300 搜索时长： 0.03297233581542969\n",
      "迭代次数： 190 最佳路径总距离： 43105 路径为： 255------276------278------271------279------280------282------269------267------266------214------213------212------211------210------298------300 搜索时长： 0.03233075141906738\n",
      "迭代次数： 191 最佳路径总距离： 43105 路径为： 255------276------278------271------279------280------282------269------267------266------214------213------212------211------210------298------300 搜索时长： 0.03337883949279785\n",
      "迭代次数： 192 最佳路径总距离： 43105 路径为： 255------276------278------271------279------280------282------269------267------266------214------213------212------211------210------298------300 搜索时长： 0.03770256042480469\n",
      "迭代次数： 193 最佳路径总距离： 43105 路径为： 255------276------278------271------279------280------282------269------267------266------214------213------212------211------210------298------300 搜索时长： 0.03328871726989746\n",
      "迭代次数： 194 最佳路径总距离： 43105 路径为： 255------276------278------271------279------280------282------269------267------266------214------213------212------211------210------298------300 搜索时长： 0.033677101135253906\n",
      "迭代次数： 195 最佳路径总距离： 43105 路径为： 255------276------278------271------279------280------282------269------267------266------214------213------212------211------210------298------300 搜索时长： 0.03630685806274414\n",
      "迭代次数： 196 最佳路径总距离： 43105 路径为： 255------276------278------271------279------280------282------269------267------266------214------213------212------211------210------298------300 搜索时长： 0.032967567443847656\n",
      "迭代次数： 197 最佳路径总距离： 43105 路径为： 255------276------278------271------279------280------282------269------267------266------214------213------212------211------210------298------300 搜索时长： 0.033373117446899414\n",
      "迭代次数： 198 最佳路径总距离： 43105 路径为： 255------276------278------271------279------280------282------269------267------266------214------213------212------211------210------298------300 搜索时长： 0.036724090576171875\n",
      "迭代次数： 199 最佳路径总距离： 43105 路径为： 255------276------278------271------279------280------282------269------267------266------214------213------212------211------210------298------300 搜索时长： 0.03281998634338379\n",
      "迭代次数： 200 最佳路径总距离： 43105 路径为： 255------276------278------271------279------280------282------269------267------266------214------213------212------211------210------298------300 搜索时长： 0.04581046104431152\n",
      "迭代次数： 201 最佳路径总距离： 43105 路径为： 255------276------278------271------279------280------282------269------267------266------214------213------212------211------210------298------300 搜索时长： 0.03744840621948242\n",
      "迭代次数： 202 最佳路径总距离： 43105 路径为： 255------276------278------271------279------280------282------269------267------266------214------213------212------211------210------298------300 搜索时长： 0.03236865997314453\n",
      "迭代次数： 203 最佳路径总距离： 43105 路径为： 255------276------278------271------279------280------282------269------267------266------214------213------212------211------210------298------300 搜索时长： 0.03631877899169922\n",
      "迭代次数： 204 最佳路径总距离： 43105 路径为： 255------276------278------271------279------280------282------269------267------266------214------213------212------211------210------298------300 搜索时长： 0.03172183036804199\n",
      "迭代次数： 205 最佳路径总距离： 43105 路径为： 255------276------278------271------279------280------282------269------267------266------214------213------212------211------210------298------300 搜索时长： 0.03318476676940918\n",
      "迭代次数： 206 最佳路径总距离： 43105 路径为： 255------276------278------271------279------280------282------269------267------266------214------213------212------211------210------298------300 搜索时长： 0.030344724655151367\n",
      "迭代次数： 207 最佳路径总距离： 43105 路径为： 255------276------278------271------279------280------282------269------267------266------214------213------212------211------210------298------300 搜索时长： 0.032485008239746094\n",
      "迭代次数： 208 最佳路径总距离： 43105 路径为： 255------276------278------271------279------280------282------269------267------266------214------213------212------211------210------298------300 搜索时长： 0.0364377498626709\n",
      "迭代次数： 209 最佳路径总距离： 43105 路径为： 255------276------278------271------279------280------282------269------267------266------214------213------212------211------210------298------300 搜索时长： 0.03215432167053223\n",
      "迭代次数： 210 最佳路径总距离： 43105 路径为： 255------276------278------271------279------280------282------269------267------266------214------213------212------211------210------298------300 搜索时长： 0.03876471519470215\n",
      "迭代次数： 211 最佳路径总距离： 43105 路径为： 255------276------278------271------279------280------282------269------267------266------214------213------212------211------210------298------300 搜索时长： 0.035985708236694336\n",
      "迭代次数： 212 最佳路径总距离： 43105 路径为： 255------276------278------271------279------280------282------269------267------266------214------213------212------211------210------298------300 搜索时长： 0.03507208824157715\n",
      "迭代次数： 213 最佳路径总距离： 43105 路径为： 255------276------278------271------279------280------282------269------267------266------214------213------212------211------210------298------300 搜索时长： 0.034693002700805664\n",
      "迭代次数： 214 最佳路径总距离： 43105 路径为： 255------276------278------271------279------280------282------269------267------266------214------213------212------211------210------298------300 搜索时长： 0.03340888023376465\n",
      "迭代次数： 215 最佳路径总距离： 43105 路径为： 255------276------278------271------279------280------282------269------267------266------214------213------212------211------210------298------300 搜索时长： 0.03477787971496582\n",
      "迭代次数： 216 最佳路径总距离： 43105 路径为： 255------276------278------271------279------280------282------269------267------266------214------213------212------211------210------298------300 搜索时长： 0.03451848030090332\n",
      "迭代次数： 217 最佳路径总距离： 43105 路径为： 255------276------278------271------279------280------282------269------267------266------214------213------212------211------210------298------300 搜索时长： 0.031191587448120117\n",
      "迭代次数： 218 最佳路径总距离： 43105 路径为： 255------276------278------271------279------280------282------269------267------266------214------213------212------211------210------298------300 搜索时长： 0.03525543212890625\n",
      "迭代次数： 219 最佳路径总距离： 43105 路径为： 255------276------278------271------279------280------282------269------267------266------214------213------212------211------210------298------300 搜索时长： 0.03285503387451172\n",
      "迭代次数： 220 最佳路径总距离： 43105 路径为： 255------276------278------271------279------280------282------269------267------266------214------213------212------211------210------298------300 搜索时长： 0.03288435935974121\n",
      "迭代次数： 221 最佳路径总距离： 43105 路径为： 255------276------278------271------279------280------282------269------267------266------214------213------212------211------210------298------300 搜索时长： 0.03349876403808594\n",
      "迭代次数： 222 最佳路径总距离： 43105 路径为： 255------276------278------271------279------280------282------269------267------266------214------213------212------211------210------298------300 搜索时长： 0.032759904861450195\n",
      "迭代次数： 223 最佳路径总距离： 43105 路径为： 255------276------278------271------279------280------282------269------267------266------214------213------212------211------210------298------300 搜索时长： 0.03575015068054199\n",
      "迭代次数： 224 最佳路径总距离： 43105 路径为： 255------276------278------271------279------280------282------269------267------266------214------213------212------211------210------298------300 搜索时长： 0.03191804885864258\n",
      "迭代次数： 225 最佳路径总距离： 43105 路径为： 255------276------278------271------279------280------282------269------267------266------214------213------212------211------210------298------300 搜索时长： 0.0346369743347168\n",
      "迭代次数： 226 最佳路径总距离： 43105 路径为： 255------276------278------271------279------280------282------269------267------266------214------213------212------211------210------298------300 搜索时长： 0.033211469650268555\n",
      "迭代次数： 227 最佳路径总距离： 43105 路径为： 255------276------278------271------279------280------282------269------267------266------214------213------212------211------210------298------300 搜索时长： 0.03427624702453613\n",
      "迭代次数： 228 最佳路径总距离： 43105 路径为： 255------276------278------271------279------280------282------269------267------266------214------213------212------211------210------298------300 搜索时长： 0.03315091133117676\n",
      "迭代次数： 229 最佳路径总距离： 43105 路径为： 255------276------278------271------279------280------282------269------267------266------214------213------212------211------210------298------300 搜索时长： 0.03667473793029785\n"
     ]
    },
    {
     "ename": "KeyboardInterrupt",
     "evalue": "",
     "output_type": "error",
     "traceback": [
      "\u001b[0;31m---------------------------------------------------------------------------\u001b[0m",
      "\u001b[0;31mKeyboardInterrupt\u001b[0m                         Traceback (most recent call last)",
      "\u001b[0;32m<ipython-input-13-8bc0d10b5f42>\u001b[0m in \u001b[0;36m<module>\u001b[0;34m\u001b[0m\n\u001b[1;32m      1\u001b[0m \u001b[0;32mimport\u001b[0m \u001b[0mrandom\u001b[0m\u001b[0;34m\u001b[0m\u001b[0;34m\u001b[0m\u001b[0m\n\u001b[0;32m----> 2\u001b[0;31m \u001b[0msearch_path\u001b[0m\u001b[0;34m(\u001b[0m\u001b[0mstart\u001b[0m\u001b[0;34m,\u001b[0m\u001b[0mtarget\u001b[0m\u001b[0;34m,\u001b[0m\u001b[0mcity_co\u001b[0m\u001b[0;34m)\u001b[0m\u001b[0;34m\u001b[0m\u001b[0;34m\u001b[0m\u001b[0m\n\u001b[0m",
      "\u001b[0;32m<ipython-input-8-5ff3c42d4f83>\u001b[0m in \u001b[0;36msearch_path\u001b[0;34m(start, target, city_co)\u001b[0m\n\u001b[1;32m     51\u001b[0m         \u001b[0;32mfor\u001b[0m \u001b[0mant\u001b[0m \u001b[0;32min\u001b[0m \u001b[0mants\u001b[0m\u001b[0;34m:\u001b[0m\u001b[0;34m\u001b[0m\u001b[0;34m\u001b[0m\u001b[0m\n\u001b[1;32m     52\u001b[0m             \u001b[0;31m# 搜索一条路径\u001b[0m\u001b[0;34m\u001b[0m\u001b[0;34m\u001b[0m\u001b[0;34m\u001b[0m\u001b[0m\n\u001b[0;32m---> 53\u001b[0;31m             \u001b[0mant\u001b[0m\u001b[0;34m.\u001b[0m\u001b[0msearch_path\u001b[0m\u001b[0;34m(\u001b[0m\u001b[0mdistance_nx_graph\u001b[0m\u001b[0;34m,\u001b[0m\u001b[0mpheromone_nx_graph\u001b[0m\u001b[0;34m,\u001b[0m\u001b[0mcity_co\u001b[0m\u001b[0;34m)\u001b[0m\u001b[0;34m\u001b[0m\u001b[0;34m\u001b[0m\u001b[0m\n\u001b[0m\u001b[1;32m     54\u001b[0m             \u001b[0;31m# 与当前最优蚂蚁比较\u001b[0m\u001b[0;34m\u001b[0m\u001b[0;34m\u001b[0m\u001b[0;34m\u001b[0m\u001b[0m\n\u001b[1;32m     55\u001b[0m             \u001b[0;31m#print(ant.path)\u001b[0m\u001b[0;34m\u001b[0m\u001b[0;34m\u001b[0m\u001b[0;34m\u001b[0m\u001b[0m\n",
      "\u001b[0;32m~/NEWYORK_DATASET/classAnt.py\u001b[0m in \u001b[0;36msearch_path\u001b[0;34m(self, dis_nx_graph, phero_nx_graph, city_co)\u001b[0m\n\u001b[1;32m    120\u001b[0m \u001b[0;34m\u001b[0m\u001b[0m\n\u001b[1;32m    121\u001b[0m         \u001b[0;31m# 初始化数据\u001b[0m\u001b[0;34m\u001b[0m\u001b[0;34m\u001b[0m\u001b[0;34m\u001b[0m\u001b[0m\n\u001b[0;32m--> 122\u001b[0;31m         \u001b[0mself\u001b[0m\u001b[0;34m.\u001b[0m\u001b[0m__clean_data\u001b[0m\u001b[0;34m(\u001b[0m\u001b[0;34m)\u001b[0m\u001b[0;34m\u001b[0m\u001b[0;34m\u001b[0m\u001b[0m\n\u001b[0m\u001b[1;32m    123\u001b[0m \u001b[0;34m\u001b[0m\u001b[0m\n\u001b[1;32m    124\u001b[0m         \u001b[0;31m# 搜素路径，遍历完所有城市为止\u001b[0m\u001b[0;34m\u001b[0m\u001b[0;34m\u001b[0m\u001b[0;34m\u001b[0m\u001b[0m\n",
      "\u001b[0;32m~/NEWYORK_DATASET/classAnt.py\u001b[0m in \u001b[0;36m__clean_data\u001b[0;34m(self)\u001b[0m\n\u001b[1;32m     24\u001b[0m         \u001b[0mself\u001b[0m\u001b[0;34m.\u001b[0m\u001b[0mmove_count\u001b[0m \u001b[0;34m=\u001b[0m \u001b[0;36m0\u001b[0m          \u001b[0;31m# 移动次数\u001b[0m\u001b[0;34m\u001b[0m\u001b[0;34m\u001b[0m\u001b[0m\n\u001b[1;32m     25\u001b[0m         \u001b[0mself\u001b[0m\u001b[0;34m.\u001b[0m\u001b[0mcurrent_city\u001b[0m \u001b[0;34m=\u001b[0m \u001b[0;34m-\u001b[0m\u001b[0;36m1\u001b[0m       \u001b[0;31m# 当前停留的城市\u001b[0m\u001b[0;34m\u001b[0m\u001b[0;34m\u001b[0m\u001b[0m\n\u001b[0;32m---> 26\u001b[0;31m         \u001b[0mself\u001b[0m\u001b[0;34m.\u001b[0m\u001b[0mopen_table_city\u001b[0m \u001b[0;34m=\u001b[0m \u001b[0mnp\u001b[0m\u001b[0;34m.\u001b[0m\u001b[0mones\u001b[0m\u001b[0;34m(\u001b[0m\u001b[0mself\u001b[0m\u001b[0;34m.\u001b[0m\u001b[0mcity_num\u001b[0m\u001b[0;34m)\u001b[0m \u001b[0;31m# 探索城市的状态\u001b[0m\u001b[0;34m\u001b[0m\u001b[0;34m\u001b[0m\u001b[0m\n\u001b[0m\u001b[1;32m     27\u001b[0m \u001b[0;34m\u001b[0m\u001b[0m\n\u001b[1;32m     28\u001b[0m         \u001b[0;31m#city_index = random.randint(0,city_num-1) # 随机初始出生点\u001b[0m\u001b[0;34m\u001b[0m\u001b[0;34m\u001b[0m\u001b[0;34m\u001b[0m\u001b[0m\n",
      "\u001b[0;32m~/anaconda3/lib/python3.7/site-packages/numpy/core/numeric.py\u001b[0m in \u001b[0;36mones\u001b[0;34m(shape, dtype, order)\u001b[0m\n\u001b[1;32m    202\u001b[0m     \"\"\"\n\u001b[1;32m    203\u001b[0m     \u001b[0ma\u001b[0m \u001b[0;34m=\u001b[0m \u001b[0mempty\u001b[0m\u001b[0;34m(\u001b[0m\u001b[0mshape\u001b[0m\u001b[0;34m,\u001b[0m \u001b[0mdtype\u001b[0m\u001b[0;34m,\u001b[0m \u001b[0morder\u001b[0m\u001b[0;34m)\u001b[0m\u001b[0;34m\u001b[0m\u001b[0;34m\u001b[0m\u001b[0m\n\u001b[0;32m--> 204\u001b[0;31m     \u001b[0mmultiarray\u001b[0m\u001b[0;34m.\u001b[0m\u001b[0mcopyto\u001b[0m\u001b[0;34m(\u001b[0m\u001b[0ma\u001b[0m\u001b[0;34m,\u001b[0m \u001b[0;36m1\u001b[0m\u001b[0;34m,\u001b[0m \u001b[0mcasting\u001b[0m\u001b[0;34m=\u001b[0m\u001b[0;34m'unsafe'\u001b[0m\u001b[0;34m)\u001b[0m\u001b[0;34m\u001b[0m\u001b[0;34m\u001b[0m\u001b[0m\n\u001b[0m\u001b[1;32m    205\u001b[0m     \u001b[0;32mreturn\u001b[0m \u001b[0ma\u001b[0m\u001b[0;34m\u001b[0m\u001b[0;34m\u001b[0m\u001b[0m\n\u001b[1;32m    206\u001b[0m \u001b[0;34m\u001b[0m\u001b[0m\n",
      "\u001b[0;31mKeyboardInterrupt\u001b[0m: "
     ]
    }
   ],
   "source": [
    "import random\n",
    "search_path(start,target,city_co)"
   ]
  },
  {
   "cell_type": "code",
   "execution_count": 4,
   "metadata": {},
   "outputs": [
    {
     "data": {
      "text/plain": [
       "[3]"
      ]
     },
     "execution_count": 4,
     "metadata": {},
     "output_type": "execute_result"
    }
   ],
   "source": [
    "intRDD = sc.parallelize([3,1,2,5,5])\n",
    "#intRDD.collect()\n",
    "intRDD.take(1)"
   ]
  },
  {
   "cell_type": "code",
   "execution_count": 9,
   "metadata": {},
   "outputs": [
    {
     "data": {
      "text/plain": [
       "[0, 0]"
      ]
     },
     "execution_count": 9,
     "metadata": {},
     "output_type": "execute_result"
    }
   ],
   "source": [
    "'''\n",
    "class test():\n",
    "    def __init__(self):\n",
    "        self.property=0\n",
    "\n",
    "    def test2(self):\n",
    "        return self.property\n",
    "'''\n",
    "from classTest import *\n",
    "p1 = test()\n",
    "p2 = test()\n",
    "a = [p1,p2]\n",
    "rdd = sc.parallelize(a)\n",
    "#rdd.take(1)\n",
    "rdd.map(lambda x : x.test2()).collect()"
   ]
  },
  {
   "cell_type": "code",
   "execution_count": null,
   "metadata": {},
   "outputs": [],
   "source": []
  }
 ],
 "metadata": {
  "interpreter": {
   "hash": "a8f61be024eba58adef938c9aa1e29e02cb3dece83a5348b1a2dafd16a070453"
  },
  "kernelspec": {
   "display_name": "Python 3",
   "language": "python",
   "name": "python3"
  },
  "language_info": {
   "codemirror_mode": {
    "name": "ipython",
    "version": 3
   },
   "file_extension": ".py",
   "mimetype": "text/x-python",
   "name": "python",
   "nbconvert_exporter": "python",
   "pygments_lexer": "ipython3",
   "version": "3.7.1"
  }
 },
 "nbformat": 4,
 "nbformat_minor": 2
}
